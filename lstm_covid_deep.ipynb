{
  "cells": [
    {
      "cell_type": "code",
      "execution_count": 1,
      "metadata": {
        "id": "UnKWDxkxz0Ur"
      },
      "outputs": [],
      "source": [
        "import pandas as pd\n",
        "import numpy as np\n",
        "import matplotlib.pyplot as plt\n",
        "import os\n",
        "import seaborn as sns\n",
        "from sklearn.preprocessing import MinMaxScaler\n",
        "from keras.models import Sequential\n",
        "from keras.layers import LSTM, Dense\n",
        "from tensorflow.keras.models import Sequential\n",
        "from tensorflow.keras.layers import InputLayer, LSTM, Dense, Dropout, GRU\n",
        "from tensorflow.keras.preprocessing.sequence import TimeseriesGenerator\n",
        "import tensorflow as tf"
      ]
    },
    {
      "attachments": {},
      "cell_type": "markdown",
      "metadata": {},
      "source": [
        "# CHARGER LE DATASET"
      ]
    },
    {
      "cell_type": "code",
      "execution_count": 2,
      "metadata": {
        "colab": {
          "base_uri": "https://localhost:8080/",
          "height": 238
        },
        "id": "b9K07Un40Pgz",
        "outputId": "b20ac5b1-5eb1-41a7-dda9-4d67683d2054"
      },
      "outputs": [
        {
          "data": {
            "text/html": [
              "<div>\n",
              "<style scoped>\n",
              "    .dataframe tbody tr th:only-of-type {\n",
              "        vertical-align: middle;\n",
              "    }\n",
              "\n",
              "    .dataframe tbody tr th {\n",
              "        vertical-align: top;\n",
              "    }\n",
              "\n",
              "    .dataframe thead th {\n",
              "        text-align: right;\n",
              "    }\n",
              "</style>\n",
              "<table border=\"1\" class=\"dataframe\">\n",
              "  <thead>\n",
              "    <tr style=\"text-align: right;\">\n",
              "      <th></th>\n",
              "      <th>semaine</th>\n",
              "      <th>reg</th>\n",
              "      <th>pop</th>\n",
              "      <th>P</th>\n",
              "      <th>T</th>\n",
              "      <th>Ti</th>\n",
              "      <th>Tp</th>\n",
              "      <th>Td</th>\n",
              "    </tr>\n",
              "  </thead>\n",
              "  <tbody>\n",
              "    <tr>\n",
              "      <th>0</th>\n",
              "      <td>29/05/2020</td>\n",
              "      <td>1</td>\n",
              "      <td>376879</td>\n",
              "      <td>111</td>\n",
              "      <td>3659</td>\n",
              "      <td>29,45</td>\n",
              "      <td>3,03</td>\n",
              "      <td>970,87</td>\n",
              "    </tr>\n",
              "    <tr>\n",
              "      <th>1</th>\n",
              "      <td>29/05/2020</td>\n",
              "      <td>2</td>\n",
              "      <td>358749</td>\n",
              "      <td>68</td>\n",
              "      <td>4272</td>\n",
              "      <td>18,95</td>\n",
              "      <td>1,59</td>\n",
              "      <td>1190,8</td>\n",
              "    </tr>\n",
              "    <tr>\n",
              "      <th>2</th>\n",
              "      <td>29/05/2020</td>\n",
              "      <td>3</td>\n",
              "      <td>290691</td>\n",
              "      <td>827</td>\n",
              "      <td>7500</td>\n",
              "      <td>284,49</td>\n",
              "      <td>11,03</td>\n",
              "      <td>2580,06</td>\n",
              "    </tr>\n",
              "    <tr>\n",
              "      <th>3</th>\n",
              "      <td>29/05/2020</td>\n",
              "      <td>4</td>\n",
              "      <td>859959</td>\n",
              "      <td>267</td>\n",
              "      <td>13544</td>\n",
              "      <td>31,05</td>\n",
              "      <td>1,97</td>\n",
              "      <td>1574,96</td>\n",
              "    </tr>\n",
              "    <tr>\n",
              "      <th>4</th>\n",
              "      <td>29/05/2020</td>\n",
              "      <td>5</td>\n",
              "      <td>5997</td>\n",
              "      <td>0</td>\n",
              "      <td>55</td>\n",
              "      <td>0</td>\n",
              "      <td>0</td>\n",
              "      <td>917,13</td>\n",
              "    </tr>\n",
              "    <tr>\n",
              "      <th>...</th>\n",
              "      <td>...</td>\n",
              "      <td>...</td>\n",
              "      <td>...</td>\n",
              "      <td>...</td>\n",
              "      <td>...</td>\n",
              "      <td>...</td>\n",
              "      <td>...</td>\n",
              "      <td>...</td>\n",
              "    </tr>\n",
              "    <tr>\n",
              "      <th>15489</th>\n",
              "      <td>17/04/2023</td>\n",
              "      <td>93</td>\n",
              "      <td>2062499</td>\n",
              "      <td>9760</td>\n",
              "      <td>58765</td>\n",
              "      <td>473,21</td>\n",
              "      <td>16,61</td>\n",
              "      <td>2849,21</td>\n",
              "    </tr>\n",
              "    <tr>\n",
              "      <th>15490</th>\n",
              "      <td>17/04/2023</td>\n",
              "      <td>94</td>\n",
              "      <td>162314</td>\n",
              "      <td>519</td>\n",
              "      <td>2555</td>\n",
              "      <td>319,75</td>\n",
              "      <td>20,31</td>\n",
              "      <td>1574,11</td>\n",
              "    </tr>\n",
              "    <tr>\n",
              "      <th>15491</th>\n",
              "      <td>17/04/2023</td>\n",
              "      <td>94</td>\n",
              "      <td>162314</td>\n",
              "      <td>735</td>\n",
              "      <td>3460</td>\n",
              "      <td>452,83</td>\n",
              "      <td>21,24</td>\n",
              "      <td>2131,67</td>\n",
              "    </tr>\n",
              "    <tr>\n",
              "      <th>15492</th>\n",
              "      <td>17/04/2023</td>\n",
              "      <td>94</td>\n",
              "      <td>187151</td>\n",
              "      <td>505</td>\n",
              "      <td>2446</td>\n",
              "      <td>269,84</td>\n",
              "      <td>20,65</td>\n",
              "      <td>1306,97</td>\n",
              "    </tr>\n",
              "    <tr>\n",
              "      <th>15493</th>\n",
              "      <td>17/04/2023</td>\n",
              "      <td>94</td>\n",
              "      <td>187151</td>\n",
              "      <td>679</td>\n",
              "      <td>3277</td>\n",
              "      <td>362,81</td>\n",
              "      <td>20,72</td>\n",
              "      <td>1750,99</td>\n",
              "    </tr>\n",
              "  </tbody>\n",
              "</table>\n",
              "<p>15494 rows × 8 columns</p>\n",
              "</div>"
            ],
            "text/plain": [
              "          semaine  reg      pop     P      T      Ti     Tp       Td\n",
              "0      29/05/2020    1   376879   111   3659   29,45   3,03   970,87\n",
              "1      29/05/2020    2   358749    68   4272   18,95   1,59   1190,8\n",
              "2      29/05/2020    3   290691   827   7500  284,49  11,03  2580,06\n",
              "3      29/05/2020    4   859959   267  13544   31,05   1,97  1574,96\n",
              "4      29/05/2020    5     5997     0     55       0      0   917,13\n",
              "...           ...  ...      ...   ...    ...     ...    ...      ...\n",
              "15489  17/04/2023   93  2062499  9760  58765  473,21  16,61  2849,21\n",
              "15490  17/04/2023   94   162314   519   2555  319,75  20,31  1574,11\n",
              "15491  17/04/2023   94   162314   735   3460  452,83  21,24  2131,67\n",
              "15492  17/04/2023   94   187151   505   2446  269,84  20,65  1306,97\n",
              "15493  17/04/2023   94   187151   679   3277  362,81  20,72  1750,99\n",
              "\n",
              "[15494 rows x 8 columns]"
            ]
          },
          "execution_count": 2,
          "metadata": {},
          "output_type": "execute_result"
        }
      ],
      "source": [
        "df = pd.read_csv(\"C:/Users/sylva/OneDrive/Bureau/Deep_Learning_Hetic_2023/Projet_deep_learning_covid/datset_depat2.csv\", sep=\";\")\n",
        "df"
      ]
    },
    {
      "attachments": {},
      "cell_type": "markdown",
      "metadata": {},
      "source": [
        "# Ce code permet d' INDEXER la colonne [semaine] dans LE Dataset"
      ]
    },
    {
      "cell_type": "code",
      "execution_count": 3,
      "metadata": {},
      "outputs": [
        {
          "data": {
            "text/html": [
              "<div>\n",
              "<style scoped>\n",
              "    .dataframe tbody tr th:only-of-type {\n",
              "        vertical-align: middle;\n",
              "    }\n",
              "\n",
              "    .dataframe tbody tr th {\n",
              "        vertical-align: top;\n",
              "    }\n",
              "\n",
              "    .dataframe thead th {\n",
              "        text-align: right;\n",
              "    }\n",
              "</style>\n",
              "<table border=\"1\" class=\"dataframe\">\n",
              "  <thead>\n",
              "    <tr style=\"text-align: right;\">\n",
              "      <th></th>\n",
              "      <th>reg</th>\n",
              "      <th>pop</th>\n",
              "      <th>P</th>\n",
              "      <th>T</th>\n",
              "      <th>Ti</th>\n",
              "      <th>Tp</th>\n",
              "      <th>Td</th>\n",
              "    </tr>\n",
              "    <tr>\n",
              "      <th>semaine</th>\n",
              "      <th></th>\n",
              "      <th></th>\n",
              "      <th></th>\n",
              "      <th></th>\n",
              "      <th></th>\n",
              "      <th></th>\n",
              "      <th></th>\n",
              "    </tr>\n",
              "  </thead>\n",
              "  <tbody>\n",
              "    <tr>\n",
              "      <th>2020-05-29</th>\n",
              "      <td>1</td>\n",
              "      <td>376879</td>\n",
              "      <td>111</td>\n",
              "      <td>3659</td>\n",
              "      <td>29,45</td>\n",
              "      <td>3,03</td>\n",
              "      <td>970,87</td>\n",
              "    </tr>\n",
              "    <tr>\n",
              "      <th>2020-05-29</th>\n",
              "      <td>2</td>\n",
              "      <td>358749</td>\n",
              "      <td>68</td>\n",
              "      <td>4272</td>\n",
              "      <td>18,95</td>\n",
              "      <td>1,59</td>\n",
              "      <td>1190,8</td>\n",
              "    </tr>\n",
              "    <tr>\n",
              "      <th>2020-05-29</th>\n",
              "      <td>3</td>\n",
              "      <td>290691</td>\n",
              "      <td>827</td>\n",
              "      <td>7500</td>\n",
              "      <td>284,49</td>\n",
              "      <td>11,03</td>\n",
              "      <td>2580,06</td>\n",
              "    </tr>\n",
              "    <tr>\n",
              "      <th>2020-05-29</th>\n",
              "      <td>4</td>\n",
              "      <td>859959</td>\n",
              "      <td>267</td>\n",
              "      <td>13544</td>\n",
              "      <td>31,05</td>\n",
              "      <td>1,97</td>\n",
              "      <td>1574,96</td>\n",
              "    </tr>\n",
              "    <tr>\n",
              "      <th>2020-05-29</th>\n",
              "      <td>5</td>\n",
              "      <td>5997</td>\n",
              "      <td>0</td>\n",
              "      <td>55</td>\n",
              "      <td>0</td>\n",
              "      <td>0</td>\n",
              "      <td>917,13</td>\n",
              "    </tr>\n",
              "  </tbody>\n",
              "</table>\n",
              "</div>"
            ],
            "text/plain": [
              "            reg     pop    P      T      Ti     Tp       Td\n",
              "semaine                                                    \n",
              "2020-05-29    1  376879  111   3659   29,45   3,03   970,87\n",
              "2020-05-29    2  358749   68   4272   18,95   1,59   1190,8\n",
              "2020-05-29    3  290691  827   7500  284,49  11,03  2580,06\n",
              "2020-05-29    4  859959  267  13544   31,05   1,97  1574,96\n",
              "2020-05-29    5    5997    0     55       0      0   917,13"
            ]
          },
          "execution_count": 3,
          "metadata": {},
          "output_type": "execute_result"
        }
      ],
      "source": [
        "\n",
        "df[\"semaine\"] = pd.to_datetime(df[\"semaine\"])\n",
        "df.set_index(\"semaine\", inplace=True)\n",
        "df.head()"
      ]
    },
    {
      "attachments": {},
      "cell_type": "markdown",
      "metadata": {},
      "source": [
        "# Nous avons procéder à la Suppression  des colonnes [TI] [TP] [TD]"
      ]
    },
    {
      "cell_type": "code",
      "execution_count": 4,
      "metadata": {},
      "outputs": [
        {
          "data": {
            "text/html": [
              "<div>\n",
              "<style scoped>\n",
              "    .dataframe tbody tr th:only-of-type {\n",
              "        vertical-align: middle;\n",
              "    }\n",
              "\n",
              "    .dataframe tbody tr th {\n",
              "        vertical-align: top;\n",
              "    }\n",
              "\n",
              "    .dataframe thead th {\n",
              "        text-align: right;\n",
              "    }\n",
              "</style>\n",
              "<table border=\"1\" class=\"dataframe\">\n",
              "  <thead>\n",
              "    <tr style=\"text-align: right;\">\n",
              "      <th></th>\n",
              "      <th>reg</th>\n",
              "      <th>pop</th>\n",
              "      <th>P</th>\n",
              "      <th>Ti</th>\n",
              "    </tr>\n",
              "    <tr>\n",
              "      <th>semaine</th>\n",
              "      <th></th>\n",
              "      <th></th>\n",
              "      <th></th>\n",
              "      <th></th>\n",
              "    </tr>\n",
              "  </thead>\n",
              "  <tbody>\n",
              "    <tr>\n",
              "      <th>2020-05-29</th>\n",
              "      <td>1</td>\n",
              "      <td>376879</td>\n",
              "      <td>111</td>\n",
              "      <td>29,45</td>\n",
              "    </tr>\n",
              "    <tr>\n",
              "      <th>2020-05-29</th>\n",
              "      <td>2</td>\n",
              "      <td>358749</td>\n",
              "      <td>68</td>\n",
              "      <td>18,95</td>\n",
              "    </tr>\n",
              "    <tr>\n",
              "      <th>2020-05-29</th>\n",
              "      <td>3</td>\n",
              "      <td>290691</td>\n",
              "      <td>827</td>\n",
              "      <td>284,49</td>\n",
              "    </tr>\n",
              "    <tr>\n",
              "      <th>2020-05-29</th>\n",
              "      <td>4</td>\n",
              "      <td>859959</td>\n",
              "      <td>267</td>\n",
              "      <td>31,05</td>\n",
              "    </tr>\n",
              "    <tr>\n",
              "      <th>2020-05-29</th>\n",
              "      <td>5</td>\n",
              "      <td>5997</td>\n",
              "      <td>0</td>\n",
              "      <td>0</td>\n",
              "    </tr>\n",
              "  </tbody>\n",
              "</table>\n",
              "</div>"
            ],
            "text/plain": [
              "            reg     pop    P      Ti\n",
              "semaine                             \n",
              "2020-05-29    1  376879  111   29,45\n",
              "2020-05-29    2  358749   68   18,95\n",
              "2020-05-29    3  290691  827  284,49\n",
              "2020-05-29    4  859959  267   31,05\n",
              "2020-05-29    5    5997    0       0"
            ]
          },
          "execution_count": 4,
          "metadata": {},
          "output_type": "execute_result"
        }
      ],
      "source": [
        "df.drop(columns=[\"T\", 'Tp','Td'], inplace=True)\n",
        "df.head()"
      ]
    },
    {
      "attachments": {},
      "cell_type": "markdown",
      "metadata": {},
      "source": [
        "# Nous avons utiliser la methode . describe() pour afficher l'écart type (std), La Moyenne (mean) et le minimum (min) "
      ]
    },
    {
      "cell_type": "code",
      "execution_count": 5,
      "metadata": {},
      "outputs": [
        {
          "data": {
            "text/html": [
              "<div>\n",
              "<style scoped>\n",
              "    .dataframe tbody tr th:only-of-type {\n",
              "        vertical-align: middle;\n",
              "    }\n",
              "\n",
              "    .dataframe tbody tr th {\n",
              "        vertical-align: top;\n",
              "    }\n",
              "\n",
              "    .dataframe thead th {\n",
              "        text-align: right;\n",
              "    }\n",
              "</style>\n",
              "<table border=\"1\" class=\"dataframe\">\n",
              "  <thead>\n",
              "    <tr style=\"text-align: right;\">\n",
              "      <th></th>\n",
              "      <th>reg</th>\n",
              "      <th>pop</th>\n",
              "      <th>P</th>\n",
              "    </tr>\n",
              "  </thead>\n",
              "  <tbody>\n",
              "    <tr>\n",
              "      <th>count</th>\n",
              "      <td>15494.000000</td>\n",
              "      <td>1.549400e+04</td>\n",
              "      <td>15494.000000</td>\n",
              "    </tr>\n",
              "    <tr>\n",
              "      <th>mean</th>\n",
              "      <td>51.331031</td>\n",
              "      <td>6.472985e+05</td>\n",
              "      <td>2443.877049</td>\n",
              "    </tr>\n",
              "    <tr>\n",
              "      <th>std</th>\n",
              "      <td>28.833062</td>\n",
              "      <td>5.157200e+05</td>\n",
              "      <td>5676.712491</td>\n",
              "    </tr>\n",
              "    <tr>\n",
              "      <th>min</th>\n",
              "      <td>1.000000</td>\n",
              "      <td>5.997000e+03</td>\n",
              "      <td>0.000000</td>\n",
              "    </tr>\n",
              "    <tr>\n",
              "      <th>25%</th>\n",
              "      <td>27.000000</td>\n",
              "      <td>2.783600e+05</td>\n",
              "      <td>188.000000</td>\n",
              "    </tr>\n",
              "    <tr>\n",
              "      <th>50%</th>\n",
              "      <td>52.000000</td>\n",
              "      <td>5.059205e+05</td>\n",
              "      <td>727.500000</td>\n",
              "    </tr>\n",
              "    <tr>\n",
              "      <th>75%</th>\n",
              "      <td>76.000000</td>\n",
              "      <td>8.284050e+05</td>\n",
              "      <td>2336.500000</td>\n",
              "    </tr>\n",
              "    <tr>\n",
              "      <th>max</th>\n",
              "      <td>94.000000</td>\n",
              "      <td>2.606873e+06</td>\n",
              "      <td>110120.000000</td>\n",
              "    </tr>\n",
              "  </tbody>\n",
              "</table>\n",
              "</div>"
            ],
            "text/plain": [
              "                reg           pop              P\n",
              "count  15494.000000  1.549400e+04   15494.000000\n",
              "mean      51.331031  6.472985e+05    2443.877049\n",
              "std       28.833062  5.157200e+05    5676.712491\n",
              "min        1.000000  5.997000e+03       0.000000\n",
              "25%       27.000000  2.783600e+05     188.000000\n",
              "50%       52.000000  5.059205e+05     727.500000\n",
              "75%       76.000000  8.284050e+05    2336.500000\n",
              "max       94.000000  2.606873e+06  110120.000000"
            ]
          },
          "execution_count": 5,
          "metadata": {},
          "output_type": "execute_result"
        }
      ],
      "source": [
        "df.describe()"
      ]
    },
    {
      "cell_type": "markdown",
      "metadata": {
        "id": "p-d9G3KQ8rDb"
      },
      "source": [
        "# Data Preprocessing"
      ]
    },
    {
      "attachments": {},
      "cell_type": "markdown",
      "metadata": {},
      "source": [
        "# ETAPES"
      ]
    },
    {
      "cell_type": "code",
      "execution_count": 6,
      "metadata": {},
      "outputs": [
        {
          "data": {
            "text/html": [
              "<div>\n",
              "<style scoped>\n",
              "    .dataframe tbody tr th:only-of-type {\n",
              "        vertical-align: middle;\n",
              "    }\n",
              "\n",
              "    .dataframe tbody tr th {\n",
              "        vertical-align: top;\n",
              "    }\n",
              "\n",
              "    .dataframe thead th {\n",
              "        text-align: right;\n",
              "    }\n",
              "</style>\n",
              "<table border=\"1\" class=\"dataframe\">\n",
              "  <thead>\n",
              "    <tr style=\"text-align: right;\">\n",
              "      <th></th>\n",
              "      <th>reg</th>\n",
              "      <th>pop</th>\n",
              "      <th>P</th>\n",
              "      <th>Ti</th>\n",
              "    </tr>\n",
              "    <tr>\n",
              "      <th>semaine</th>\n",
              "      <th></th>\n",
              "      <th></th>\n",
              "      <th></th>\n",
              "      <th></th>\n",
              "    </tr>\n",
              "  </thead>\n",
              "  <tbody>\n",
              "    <tr>\n",
              "      <th>2020-05-29</th>\n",
              "      <td>1</td>\n",
              "      <td>376879</td>\n",
              "      <td>111</td>\n",
              "      <td>29,45</td>\n",
              "    </tr>\n",
              "    <tr>\n",
              "      <th>2020-05-29</th>\n",
              "      <td>2</td>\n",
              "      <td>358749</td>\n",
              "      <td>68</td>\n",
              "      <td>18,95</td>\n",
              "    </tr>\n",
              "    <tr>\n",
              "      <th>2020-05-29</th>\n",
              "      <td>3</td>\n",
              "      <td>290691</td>\n",
              "      <td>827</td>\n",
              "      <td>284,49</td>\n",
              "    </tr>\n",
              "    <tr>\n",
              "      <th>2020-05-29</th>\n",
              "      <td>4</td>\n",
              "      <td>859959</td>\n",
              "      <td>267</td>\n",
              "      <td>31,05</td>\n",
              "    </tr>\n",
              "    <tr>\n",
              "      <th>2020-05-29</th>\n",
              "      <td>5</td>\n",
              "      <td>5997</td>\n",
              "      <td>0</td>\n",
              "      <td>0</td>\n",
              "    </tr>\n",
              "    <tr>\n",
              "      <th>...</th>\n",
              "      <td>...</td>\n",
              "      <td>...</td>\n",
              "      <td>...</td>\n",
              "      <td>...</td>\n",
              "    </tr>\n",
              "    <tr>\n",
              "      <th>2023-04-17</th>\n",
              "      <td>93</td>\n",
              "      <td>2062499</td>\n",
              "      <td>9760</td>\n",
              "      <td>473,21</td>\n",
              "    </tr>\n",
              "    <tr>\n",
              "      <th>2023-04-17</th>\n",
              "      <td>94</td>\n",
              "      <td>162314</td>\n",
              "      <td>519</td>\n",
              "      <td>319,75</td>\n",
              "    </tr>\n",
              "    <tr>\n",
              "      <th>2023-04-17</th>\n",
              "      <td>94</td>\n",
              "      <td>162314</td>\n",
              "      <td>735</td>\n",
              "      <td>452,83</td>\n",
              "    </tr>\n",
              "    <tr>\n",
              "      <th>2023-04-17</th>\n",
              "      <td>94</td>\n",
              "      <td>187151</td>\n",
              "      <td>505</td>\n",
              "      <td>269,84</td>\n",
              "    </tr>\n",
              "    <tr>\n",
              "      <th>2023-04-17</th>\n",
              "      <td>94</td>\n",
              "      <td>187151</td>\n",
              "      <td>679</td>\n",
              "      <td>362,81</td>\n",
              "    </tr>\n",
              "  </tbody>\n",
              "</table>\n",
              "<p>15494 rows × 4 columns</p>\n",
              "</div>"
            ],
            "text/plain": [
              "            reg      pop     P      Ti\n",
              "semaine                               \n",
              "2020-05-29    1   376879   111   29,45\n",
              "2020-05-29    2   358749    68   18,95\n",
              "2020-05-29    3   290691   827  284,49\n",
              "2020-05-29    4   859959   267   31,05\n",
              "2020-05-29    5     5997     0       0\n",
              "...         ...      ...   ...     ...\n",
              "2023-04-17   93  2062499  9760  473,21\n",
              "2023-04-17   94   162314   519  319,75\n",
              "2023-04-17   94   162314   735  452,83\n",
              "2023-04-17   94   187151   505  269,84\n",
              "2023-04-17   94   187151   679  362,81\n",
              "\n",
              "[15494 rows x 4 columns]"
            ]
          },
          "execution_count": 6,
          "metadata": {},
          "output_type": "execute_result"
        }
      ],
      "source": [
        "df"
      ]
    },
    {
      "attachments": {},
      "cell_type": "markdown",
      "metadata": {},
      "source": [
        "# Nous avons modifier les occurences (\",\") en (\".\") dans La Colonne Ti de notre dataframe"
      ]
    },
    {
      "cell_type": "code",
      "execution_count": 7,
      "metadata": {},
      "outputs": [
        {
          "data": {
            "text/html": [
              "<div>\n",
              "<style scoped>\n",
              "    .dataframe tbody tr th:only-of-type {\n",
              "        vertical-align: middle;\n",
              "    }\n",
              "\n",
              "    .dataframe tbody tr th {\n",
              "        vertical-align: top;\n",
              "    }\n",
              "\n",
              "    .dataframe thead th {\n",
              "        text-align: right;\n",
              "    }\n",
              "</style>\n",
              "<table border=\"1\" class=\"dataframe\">\n",
              "  <thead>\n",
              "    <tr style=\"text-align: right;\">\n",
              "      <th></th>\n",
              "      <th>reg</th>\n",
              "      <th>pop</th>\n",
              "      <th>P</th>\n",
              "      <th>Ti</th>\n",
              "    </tr>\n",
              "    <tr>\n",
              "      <th>semaine</th>\n",
              "      <th></th>\n",
              "      <th></th>\n",
              "      <th></th>\n",
              "      <th></th>\n",
              "    </tr>\n",
              "  </thead>\n",
              "  <tbody>\n",
              "    <tr>\n",
              "      <th>2020-05-29</th>\n",
              "      <td>1</td>\n",
              "      <td>376879</td>\n",
              "      <td>111</td>\n",
              "      <td>29.45</td>\n",
              "    </tr>\n",
              "    <tr>\n",
              "      <th>2020-05-29</th>\n",
              "      <td>2</td>\n",
              "      <td>358749</td>\n",
              "      <td>68</td>\n",
              "      <td>18.95</td>\n",
              "    </tr>\n",
              "    <tr>\n",
              "      <th>2020-05-29</th>\n",
              "      <td>3</td>\n",
              "      <td>290691</td>\n",
              "      <td>827</td>\n",
              "      <td>284.49</td>\n",
              "    </tr>\n",
              "    <tr>\n",
              "      <th>2020-05-29</th>\n",
              "      <td>4</td>\n",
              "      <td>859959</td>\n",
              "      <td>267</td>\n",
              "      <td>31.05</td>\n",
              "    </tr>\n",
              "    <tr>\n",
              "      <th>2020-05-29</th>\n",
              "      <td>5</td>\n",
              "      <td>5997</td>\n",
              "      <td>0</td>\n",
              "      <td>0</td>\n",
              "    </tr>\n",
              "    <tr>\n",
              "      <th>...</th>\n",
              "      <td>...</td>\n",
              "      <td>...</td>\n",
              "      <td>...</td>\n",
              "      <td>...</td>\n",
              "    </tr>\n",
              "    <tr>\n",
              "      <th>2023-04-17</th>\n",
              "      <td>93</td>\n",
              "      <td>2062499</td>\n",
              "      <td>9760</td>\n",
              "      <td>473.21</td>\n",
              "    </tr>\n",
              "    <tr>\n",
              "      <th>2023-04-17</th>\n",
              "      <td>94</td>\n",
              "      <td>162314</td>\n",
              "      <td>519</td>\n",
              "      <td>319.75</td>\n",
              "    </tr>\n",
              "    <tr>\n",
              "      <th>2023-04-17</th>\n",
              "      <td>94</td>\n",
              "      <td>162314</td>\n",
              "      <td>735</td>\n",
              "      <td>452.83</td>\n",
              "    </tr>\n",
              "    <tr>\n",
              "      <th>2023-04-17</th>\n",
              "      <td>94</td>\n",
              "      <td>187151</td>\n",
              "      <td>505</td>\n",
              "      <td>269.84</td>\n",
              "    </tr>\n",
              "    <tr>\n",
              "      <th>2023-04-17</th>\n",
              "      <td>94</td>\n",
              "      <td>187151</td>\n",
              "      <td>679</td>\n",
              "      <td>362.81</td>\n",
              "    </tr>\n",
              "  </tbody>\n",
              "</table>\n",
              "<p>15494 rows × 4 columns</p>\n",
              "</div>"
            ],
            "text/plain": [
              "            reg      pop     P      Ti\n",
              "semaine                               \n",
              "2020-05-29    1   376879   111   29.45\n",
              "2020-05-29    2   358749    68   18.95\n",
              "2020-05-29    3   290691   827  284.49\n",
              "2020-05-29    4   859959   267   31.05\n",
              "2020-05-29    5     5997     0       0\n",
              "...         ...      ...   ...     ...\n",
              "2023-04-17   93  2062499  9760  473.21\n",
              "2023-04-17   94   162314   519  319.75\n",
              "2023-04-17   94   162314   735  452.83\n",
              "2023-04-17   94   187151   505  269.84\n",
              "2023-04-17   94   187151   679  362.81\n",
              "\n",
              "[15494 rows x 4 columns]"
            ]
          },
          "execution_count": 7,
          "metadata": {},
          "output_type": "execute_result"
        }
      ],
      "source": [
        "df['Ti'] = df['Ti'].str.replace(',', '.')\n",
        "df"
      ]
    },
    {
      "attachments": {},
      "cell_type": "markdown",
      "metadata": {},
      "source": [
        "# Nous avons transformé les données de la colonne Ti (chaine de caractère)en données numériques pour faciliter la lecture et le calcule"
      ]
    },
    {
      "cell_type": "code",
      "execution_count": 8,
      "metadata": {},
      "outputs": [],
      "source": [
        "df['Ti'] = pd.to_numeric(df['Ti'])"
      ]
    },
    {
      "cell_type": "code",
      "execution_count": 9,
      "metadata": {},
      "outputs": [
        {
          "data": {
            "text/plain": [
              "semaine\n",
              "2020-05-29     29.45\n",
              "2020-05-29     18.95\n",
              "2020-05-29    284.49\n",
              "2020-05-29     31.05\n",
              "2020-05-29      0.00\n",
              "               ...  \n",
              "2023-04-17    473.21\n",
              "2023-04-17    319.75\n",
              "2023-04-17    452.83\n",
              "2023-04-17    269.84\n",
              "2023-04-17    362.81\n",
              "Name: Ti, Length: 15494, dtype: float64"
            ]
          },
          "execution_count": 9,
          "metadata": {},
          "output_type": "execute_result"
        }
      ],
      "source": [
        "df['Ti']"
      ]
    },
    {
      "attachments": {},
      "cell_type": "markdown",
      "metadata": {},
      "source": [
        "# Nous avons extrait la valeur maximale dans notre Dataframe en utilisant la méthode .values.max(), puis calculé un point de séparation split à 80% de la longueur totale du DataFrame."
      ]
    },
    {
      "cell_type": "code",
      "execution_count": 10,
      "metadata": {
        "colab": {
          "base_uri": "https://localhost:8080/"
        },
        "id": "avTegut-Fn4w",
        "outputId": "0caa3a7b-4293-4d5c-dcda-4bacd4ae5872"
      },
      "outputs": [
        {
          "name": "stdout",
          "output_type": "stream",
          "text": [
            "2606873.0 12395\n"
          ]
        }
      ],
      "source": [
        "max = df.values.max()\n",
        "split = int(len(df)*0.8)\n",
        "print(max, split)"
      ]
    },
    {
      "attachments": {},
      "cell_type": "markdown",
      "metadata": {},
      "source": [
        "\n",
        "# Nous avons divisé les données de notre DataFrame en deux ensembles entraînement: (train) et (test). Les valeurs de ces ensembles sont normalisées en les divisant par la valeur maximale (max) obtenue précédemment."
      ]
    },
    {
      "cell_type": "code",
      "execution_count": 11,
      "metadata": {
        "id": "58yURps7GDhs"
      },
      "outputs": [],
      "source": [
        "train = df[:split].values / max\n",
        "test = df[split:].values / max\n"
      ]
    },
    {
      "attachments": {},
      "cell_type": "markdown",
      "metadata": {},
      "source": [
        "# Nous avons crée 2 générateurs de séquences (train_generator et test_generator) à partir (train) et (test) avec une longueur de séquence (input_length) de 4 et une taille de batch (batch_size) de 1."
      ]
    },
    {
      "cell_type": "code",
      "execution_count": 12,
      "metadata": {
        "id": "p7_VSsL0Juj1"
      },
      "outputs": [],
      "source": [
        "input_length = 4\n",
        "features_length = 1\n",
        "train_generator = TimeseriesGenerator(train, train, length=input_length, batch_size=1)\n",
        "test_generator = TimeseriesGenerator(test, test, length=input_length, batch_size=1)"
      ]
    },
    {
      "attachments": {},
      "cell_type": "markdown",
      "metadata": {},
      "source": [
        "# Nous avons extrait la première séquence d'entraînement (x) et sa valeur cible correspondante (y) à partir du générateur de séquences d'entraînement (train_generator[0]).Puis nous avons afficher les dimensions de (x) et (y) par print(x.shape) et print(y.shape).\n",
        "# RESULTAT : nous avons obtenu comme sortie (1, 4, 4) (1, 4) interprétée comme suite : (1, 4, 4) signifie tableau tridimensionnel avec batch_size 1, longueur de séquence 4 et 4 caractéristiques. (1, 4) signifie batch_size 1 et longueur de séquence de 4."
      ]
    },
    {
      "cell_type": "code",
      "execution_count": 13,
      "metadata": {
        "colab": {
          "base_uri": "https://localhost:8080/"
        },
        "id": "V5WjqjsJKwnc",
        "outputId": "2f854af7-6306-436c-a3b9-77337ca04958"
      },
      "outputs": [
        {
          "name": "stdout",
          "output_type": "stream",
          "text": [
            "(1, 4, 4)\n",
            "(1, 4)\n"
          ]
        }
      ],
      "source": [
        "x, y = train_generator[0]\n",
        "print(x.shape)\n",
        "print(y.shape)"
      ]
    },
    {
      "attachments": {},
      "cell_type": "markdown",
      "metadata": {},
      "source": [
        " # Nous avons extrait la longueur de séquence (input_length) et la longueur des caractéristiques (features_length) à partir des dimensions de x, première séquence d'entraînement. x.shape[1] renvoie la deuxième dimension de x (la longueur de séquence), et x.shape[2] renvoie la troisième dimension de x (la longueur des caractéristiques)."
      ]
    },
    {
      "cell_type": "code",
      "execution_count": 14,
      "metadata": {},
      "outputs": [],
      "source": [
        "input_length = x.shape[1]\n",
        "features_length = x.shape[2]"
      ]
    },
    {
      "attachments": {},
      "cell_type": "markdown",
      "metadata": {},
      "source": [
        "# Couche d'entrée (InputLayer) avec une forme d'entrée input_length et features_length. Une couche LSTM avec 50 unités, une fonction d'activation tangente hyperbolique (\"tanh\") pour les activations et une activation récurrente sigmoide (\"sigmoid\"), sans retour de séquence. Une couche de (Dropout) avec un taux de 0.3 pour régulariser le modèle.(Dense) avec sigmoid pour la sortie finale avec un nombre d'unités correspondant à features_length. Un optimiseur Adam avec un taux d'apprentissage de 0.005. la fonction de perte (\"mse\" pour l'erreur quadratique moyenne) et les métriques d'évaluation (\"mae\" pour l'erreur absolue moyenne). \n",
        "# Résultat : nombre total de paramètres (11 204) et nombre de paramètres entraînables (11 204)."
      ]
    },
    {
      "cell_type": "code",
      "execution_count": 15,
      "metadata": {
        "colab": {
          "base_uri": "https://localhost:8080/"
        },
        "id": "V26m2g34L1B0",
        "outputId": "e64b9e5b-6a14-4389-afcf-7837e369686f"
      },
      "outputs": [
        {
          "name": "stdout",
          "output_type": "stream",
          "text": [
            "Model: \"sequential\"\n",
            "_________________________________________________________________\n",
            " Layer (type)                Output Shape              Param #   \n",
            "=================================================================\n",
            " lstm (LSTM)                 (None, 50)                11000     \n",
            "                                                                 \n",
            " dropout (Dropout)           (None, 50)                0         \n",
            "                                                                 \n",
            " dense (Dense)               (None, 4)                 204       \n",
            "                                                                 \n",
            "=================================================================\n",
            "Total params: 11,204\n",
            "Trainable params: 11,204\n",
            "Non-trainable params: 0\n",
            "_________________________________________________________________\n"
          ]
        }
      ],
      "source": [
        "lstm_model = Sequential()\n",
        "\n",
        "lstm_model.add(InputLayer(input_shape=(input_length, features_length)))\n",
        "lstm_model.add(LSTM(50, activation=\"tanh\", recurrent_activation=\"sigmoid\", return_sequences=False))\n",
        "lstm_model.add(Dropout(0.3))\n",
        "\n",
        "lstm_model.add(Dense(features_length, activation=\"sigmoid\"))\n",
        "\n",
        "optmizer = tf.keras.optimizers.Adam(learning_rate=0.005)\n",
        "\n",
        "lstm_model.compile(optimizer=optmizer, loss=\"mse\", metrics=[\"mae\"])\n",
        "lstm_model.summary()"
      ]
    },
    {
      "attachments": {},
      "cell_type": "markdown",
      "metadata": {},
      "source": [
        "# la fonction \"scheduler\" pour définir une stratégie d'ajustement du taux d'apprentissage pendant l'entraînement d'un modèle d'apprentissage automatique en le décroissant progressivement à chaque epochs à l'aide de l'exponentielle de -0.2."
      ]
    },
    {
      "cell_type": "code",
      "execution_count": 16,
      "metadata": {
        "id": "uool_nyWOSRh"
      },
      "outputs": [],
      "source": [
        "def scheduler(epoch, lr):\n",
        "  return lr*tf.math.exp(-0.2)"
      ]
    },
    {
      "attachments": {},
      "cell_type": "markdown",
      "metadata": {},
      "source": [
        "# Ce code permet d'ajuster le taux d'apprentissage définie par la fonction \"scheduler\" à chaque époque de l'entraînement. S'il n'ya pas démélioration dans la perte de validation (\"val_loss\"), \"early_stopping\" restaure les meilleurs poids pour éviter le overfitting"
      ]
    },
    {
      "cell_type": "code",
      "execution_count": 17,
      "metadata": {
        "id": "gWNzAV2xOAvs"
      },
      "outputs": [],
      "source": [
        "learning_rate_scheduler = tf.keras.callbacks.LearningRateScheduler(scheduler)\n",
        "early_stopping = tf.keras.callbacks.EarlyStopping(monitor=\"val_loss\", patience=5, restore_best_weights=True)"
      ]
    },
    {
      "attachments": {},
      "cell_type": "markdown",
      "metadata": {},
      "source": [
        "# Dans l'entrainement du modele, nous avons utilisé 19 époques d'entraînement et appliquer un ajustement dynamique du (learning_rate_scheduler) et arrêter l'entraînement (early_stopping) en cas de stagnation de la performance. L'historique d'apprentissage est stocké dans la variable history, qui contient les métriques de performance (perte, métriques) à chaque époque d'entraînement."
      ]
    },
    {
      "cell_type": "code",
      "execution_count": 18,
      "metadata": {
        "id": "VLUQ6QEuO65f"
      },
      "outputs": [
        {
          "name": "stdout",
          "output_type": "stream",
          "text": [
            "Epoch 1/19\n",
            "12391/12391 [==============================] - 50s 4ms/step - loss: 0.0076 - mae: 0.0337 - val_loss: 0.0048 - val_mae: 0.0229 - lr: 0.0041\n",
            "Epoch 2/19\n",
            "12391/12391 [==============================] - 47s 4ms/step - loss: 0.0049 - mae: 0.0240 - val_loss: 0.0045 - val_mae: 0.0219 - lr: 0.0034\n",
            "Epoch 3/19\n",
            "12391/12391 [==============================] - 47s 4ms/step - loss: 0.0043 - mae: 0.0222 - val_loss: 0.0042 - val_mae: 0.0210 - lr: 0.0027\n",
            "Epoch 4/19\n",
            "12391/12391 [==============================] - 47s 4ms/step - loss: 0.0040 - mae: 0.0212 - val_loss: 0.0039 - val_mae: 0.0202 - lr: 0.0022\n",
            "Epoch 5/19\n",
            "12391/12391 [==============================] - 45s 4ms/step - loss: 0.0037 - mae: 0.0200 - val_loss: 0.0037 - val_mae: 0.0195 - lr: 0.0018\n",
            "Epoch 6/19\n",
            "12391/12391 [==============================] - 46s 4ms/step - loss: 0.0034 - mae: 0.0189 - val_loss: 0.0034 - val_mae: 0.0181 - lr: 0.0015\n",
            "Epoch 7/19\n",
            "12391/12391 [==============================] - 47s 4ms/step - loss: 0.0031 - mae: 0.0180 - val_loss: 0.0034 - val_mae: 0.0178 - lr: 0.0012\n",
            "Epoch 8/19\n",
            "12391/12391 [==============================] - 47s 4ms/step - loss: 0.0030 - mae: 0.0175 - val_loss: 0.0033 - val_mae: 0.0173 - lr: 0.0010\n",
            "Epoch 9/19\n",
            "12391/12391 [==============================] - 44s 4ms/step - loss: 0.0029 - mae: 0.0170 - val_loss: 0.0034 - val_mae: 0.0178 - lr: 8.2649e-04\n",
            "Epoch 10/19\n",
            "12391/12391 [==============================] - 43s 4ms/step - loss: 0.0029 - mae: 0.0169 - val_loss: 0.0033 - val_mae: 0.0172 - lr: 6.7668e-04\n",
            "Epoch 11/19\n",
            "12391/12391 [==============================] - 45s 4ms/step - loss: 0.0028 - mae: 0.0164 - val_loss: 0.0032 - val_mae: 0.0169 - lr: 5.5402e-04\n",
            "Epoch 12/19\n",
            "12391/12391 [==============================] - 44s 4ms/step - loss: 0.0028 - mae: 0.0163 - val_loss: 0.0033 - val_mae: 0.0167 - lr: 4.5359e-04\n",
            "Epoch 13/19\n",
            "12391/12391 [==============================] - 44s 4ms/step - loss: 0.0028 - mae: 0.0162 - val_loss: 0.0032 - val_mae: 0.0166 - lr: 3.7137e-04\n",
            "Epoch 14/19\n",
            "12391/12391 [==============================] - 44s 4ms/step - loss: 0.0027 - mae: 0.0159 - val_loss: 0.0032 - val_mae: 0.0163 - lr: 3.0405e-04\n",
            "Epoch 15/19\n",
            "12391/12391 [==============================] - 45s 4ms/step - loss: 0.0027 - mae: 0.0158 - val_loss: 0.0032 - val_mae: 0.0161 - lr: 2.4894e-04\n",
            "Epoch 16/19\n",
            "12391/12391 [==============================] - 44s 4ms/step - loss: 0.0026 - mae: 0.0156 - val_loss: 0.0032 - val_mae: 0.0164 - lr: 2.0381e-04\n",
            "Epoch 17/19\n",
            "12391/12391 [==============================] - 44s 4ms/step - loss: 0.0026 - mae: 0.0155 - val_loss: 0.0032 - val_mae: 0.0161 - lr: 1.6687e-04\n",
            "Epoch 18/19\n",
            "12391/12391 [==============================] - 44s 4ms/step - loss: 0.0026 - mae: 0.0156 - val_loss: 0.0032 - val_mae: 0.0159 - lr: 1.3662e-04\n",
            "Epoch 19/19\n",
            "12391/12391 [==============================] - 44s 4ms/step - loss: 0.0026 - mae: 0.0156 - val_loss: 0.0032 - val_mae: 0.0162 - lr: 1.1185e-04\n"
          ]
        }
      ],
      "source": [
        "history = lstm_model.fit(train_generator, epochs=19, validation_data=test_generator,callbacks=[learning_rate_scheduler, early_stopping], verbose=1)"
      ]
    },
    {
      "attachments": {},
      "cell_type": "markdown",
      "metadata": {},
      "source": [
        "# Nous affichons enssuite le premier batch générées par le générateur pour visualiser les données d'entrée et de sortie qui seront utilisées pour évaluer la performance du modèle sur les données de test."
      ]
    },
    {
      "cell_type": "code",
      "execution_count": 19,
      "metadata": {
        "id": "OF-zq-aFRf7L"
      },
      "outputs": [
        {
          "name": "stdout",
          "output_type": "stream",
          "text": [
            "(array([[[9.20643238e-06, 2.32224585e-01, 6.76672780e-04, 1.11777597e-04],\n",
            "        [9.20643238e-06, 2.61957525e-01, 6.67082746e-04, 9.76840836e-05],\n",
            "        [1.03572364e-05, 5.37598111e-02, 1.37329283e-04, 9.79909647e-05],\n",
            "        [1.03572364e-05, 7.65652949e-02, 2.89235417e-04, 1.44909246e-04]]]), array([[1.03572364e-05, 8.94535330e-02, 1.68400992e-04, 7.22167900e-05]]))\n"
          ]
        }
      ],
      "source": [
        "print(test_generator[0])"
      ]
    },
    {
      "attachments": {},
      "cell_type": "markdown",
      "metadata": {},
      "source": [
        "# Nous avons extrait la valeur de (val_loss) à partir de l'historique d'apprentissage, et stocké cette valeur dans la variable y_true pour ensuite l'utiliser."
      ]
    },
    {
      "cell_type": "code",
      "execution_count": 32,
      "metadata": {},
      "outputs": [],
      "source": [
        "y_true = history.history['val_loss'] "
      ]
    },
    {
      "attachments": {},
      "cell_type": "markdown",
      "metadata": {},
      "source": [
        "# Nous avons crée une séquence de nombres allant de 0 à la longueur de la variable y_true, et stocke cette séquence dans la variable time_steps."
      ]
    },
    {
      "cell_type": "code",
      "execution_count": 33,
      "metadata": {},
      "outputs": [],
      "source": [
        "time_steps = range(0, len(y_true))\n",
        "# time2_steps = range(0, len(y_pred))"
      ]
    },
    {
      "attachments": {},
      "cell_type": "markdown",
      "metadata": {},
      "source": [
        "# Nous avons fait une réprésentation graphique grace à la fonction \"plt.plot()des variables \"time_steps\" et \"y_true\". \"time_steps\" représente X, et \"y_true\" : Y."
      ]
    },
    {
      "cell_type": "code",
      "execution_count": 22,
      "metadata": {},
      "outputs": [
        {
          "data": {
            "image/png": "[encoded data removed]",
            "text/plain": [
              "<Figure size 640x480 with 1 Axes>"
            ]
          },
          "metadata": {},
          "output_type": "display_data"
        }
      ],
      "source": [
        "# Tracé des données réelles et prédites\n",
        "\n",
        "plt.plot(time_steps,y_true, label='Données réelles')\n",
        "\n",
        "# Personnalisation du graphique\n",
        "plt.xlabel('Temps')\n",
        "plt.ylabel('Valeur')\n",
        "plt.title('Prédiction temporelle')\n",
        "plt.legend()\n",
        "\n",
        "# # Affichage du graphique\n",
        "plt.show()"
      ]
    },
    {
      "attachments": {},
      "cell_type": "markdown",
      "metadata": {},
      "source": [
        "\n",
        "# Notre graphique est courbe représentative de notre prédiction temporelle des données réelles sur l'évolution de la propagation du covid. En Abscisse c'est le temps qui représente la période sur laquelle repose notre prédiction. A cha epoch nous constatons une mise à jour par raport à l'epoch passé? En ordonnée, c'est la valeur à prédire (Y_pred). Nous constatons une décroissance de la courbe par la fonction (scheduler) à chaque épochs, parce que à chaque entrainement du modele, la valeur du y_pred est récupéré et utilisé à chaque itération dans l'Historique dans laquelle elle est stockée. Cette intervalle des valeurs du time_steps"
      ]
    },
    {
      "cell_type": "code",
      "execution_count": 23,
      "metadata": {},
      "outputs": [],
      "source": [
        "import plotly.graph_objects as go"
      ]
    },
    {
      "cell_type": "code",
      "execution_count": 24,
      "metadata": {},
      "outputs": [
        {
          "data": {
            "application/vnd.plotly.v1+json": {
              "config": {
                "plotlyServerURL": "https://plot.ly"
              },
              "data": [
                {
                  "line": {
                    "color": [
                      0.000001918006746013327,
                      0.0023004572911683847,
                      0,
                      0
                    ],
                    "colorscale": [
                      [
                        0,
                        "rgb(255,255,229)"
                      ],
                      [
                        0.125,
                        "rgb(247,252,185)"
                      ],
                      [
                        0.25,
                        "rgb(217,240,163)"
                      ],
                      [
                        0.375,
                        "rgb(173,221,142)"
                      ],
                      [
                        0.5,
                        "rgb(120,198,121)"
                      ],
                      [
                        0.625,
                        "rgb(65,171,93)"
                      ],
                      [
                        0.75,
                        "rgb(35,132,67)"
                      ],
                      [
                        0.875,
                        "rgb(0,104,55)"
                      ],
                      [
                        1,
                        "rgb(0,69,41)"
                      ]
                    ],
                    "reversescale": true,
                    "width": 3
                  },
                  "mode": "lines",
                  "type": "scatter3d",
                  "x": [
                    3.8360134920266543e-7,
                    0.14457129288615134,
                    0.00004257974976149586,
                    0.000011297059734018496
                  ],
                  "y": [
                    7.672026984053309e-7,
                    0.137616600425107,
                    0.000026084891745781248,
                    0.00000726924556739051
                  ],
                  "z": [
                    0.000001918006746013327,
                    0.0023004572911683847,
                    0,
                    0
                  ]
                }
              ],
              "layout": {
                "margin": {
                  "b": 0,
                  "l": 0,
                  "r": 0,
                  "t": 0
                },
                "scene": {
                  "camera": {
                    "projection": {
                      "type": "orthographic"
                    }
                  }
                },
                "template": {
                  "data": {
                    "bar": [
                      {
                        "error_x": {
                          "color": "#f2f5fa"
                        },
                        "error_y": {
                          "color": "#f2f5fa"
                        },
                        "marker": {
                          "line": {
                            "color": "rgb(17,17,17)",
                            "width": 0.5
                          },
                          "pattern": {
                            "fillmode": "overlay",
                            "size": 10,
                            "solidity": 0.2
                          }
                        },
                        "type": "bar"
                      }
                    ],
                    "barpolar": [
                      {
                        "marker": {
                          "line": {
                            "color": "rgb(17,17,17)",
                            "width": 0.5
                          },
                          "pattern": {
                            "fillmode": "overlay",
                            "size": 10,
                            "solidity": 0.2
                          }
                        },
                        "type": "barpolar"
                      }
                    ],
                    "carpet": [
                      {
                        "aaxis": {
                          "endlinecolor": "#A2B1C6",
                          "gridcolor": "#506784",
                          "linecolor": "#506784",
                          "minorgridcolor": "#506784",
                          "startlinecolor": "#A2B1C6"
                        },
                        "baxis": {
                          "endlinecolor": "#A2B1C6",
                          "gridcolor": "#506784",
                          "linecolor": "#506784",
                          "minorgridcolor": "#506784",
                          "startlinecolor": "#A2B1C6"
                        },
                        "type": "carpet"
                      }
                    ],
                    "choropleth": [
                      {
                        "colorbar": {
                          "outlinewidth": 0,
                          "ticks": ""
                        },
                        "type": "choropleth"
                      }
                    ],
                    "contour": [
                      {
                        "colorbar": {
                          "outlinewidth": 0,
                          "ticks": ""
                        },
                        "colorscale": [
                          [
                            0,
                            "#0d0887"
                          ],
                          [
                            0.1111111111111111,
                            "#46039f"
                          ],
                          [
                            0.2222222222222222,
                            "#7201a8"
                          ],
                          [
                            0.3333333333333333,
                            "#9c179e"
                          ],
                          [
                            0.4444444444444444,
                            "#bd3786"
                          ],
                          [
                            0.5555555555555556,
                            "#d8576b"
                          ],
                          [
                            0.6666666666666666,
                            "#ed7953"
                          ],
                          [
                            0.7777777777777778,
                            "#fb9f3a"
                          ],
                          [
                            0.8888888888888888,
                            "#fdca26"
                          ],
                          [
                            1,
                            "#f0f921"
                          ]
                        ],
                        "type": "contour"
                      }
                    ],
                    "contourcarpet": [
                      {
                        "colorbar": {
                          "outlinewidth": 0,
                          "ticks": ""
                        },
                        "type": "contourcarpet"
                      }
                    ],
                    "heatmap": [
                      {
                        "colorbar": {
                          "outlinewidth": 0,
                          "ticks": ""
                        },
                        "colorscale": [
                          [
                            0,
                            "#0d0887"
                          ],
                          [
                            0.1111111111111111,
                            "#46039f"
                          ],
                          [
                            0.2222222222222222,
                            "#7201a8"
                          ],
                          [
                            0.3333333333333333,
                            "#9c179e"
                          ],
                          [
                            0.4444444444444444,
                            "#bd3786"
                          ],
                          [
                            0.5555555555555556,
                            "#d8576b"
                          ],
                          [
                            0.6666666666666666,
                            "#ed7953"
                          ],
                          [
                            0.7777777777777778,
                            "#fb9f3a"
                          ],
                          [
                            0.8888888888888888,
                            "#fdca26"
                          ],
                          [
                            1,
                            "#f0f921"
                          ]
                        ],
                        "type": "heatmap"
                      }
                    ],
                    "heatmapgl": [
                      {
                        "colorbar": {
                          "outlinewidth": 0,
                          "ticks": ""
                        },
                        "colorscale": [
                          [
                            0,
                            "#0d0887"
                          ],
                          [
                            0.1111111111111111,
                            "#46039f"
                          ],
                          [
                            0.2222222222222222,
                            "#7201a8"
                          ],
                          [
                            0.3333333333333333,
                            "#9c179e"
                          ],
                          [
                            0.4444444444444444,
                            "#bd3786"
                          ],
                          [
                            0.5555555555555556,
                            "#d8576b"
                          ],
                          [
                            0.6666666666666666,
                            "#ed7953"
                          ],
                          [
                            0.7777777777777778,
                            "#fb9f3a"
                          ],
                          [
                            0.8888888888888888,
                            "#fdca26"
                          ],
                          [
                            1,
                            "#f0f921"
                          ]
                        ],
                        "type": "heatmapgl"
                      }
                    ],
                    "histogram": [
                      {
                        "marker": {
                          "pattern": {
                            "fillmode": "overlay",
                            "size": 10,
                            "solidity": 0.2
                          }
                        },
                        "type": "histogram"
                      }
                    ],
                    "histogram2d": [
                      {
                        "colorbar": {
                          "outlinewidth": 0,
                          "ticks": ""
                        },
                        "colorscale": [
                          [
                            0,
                            "#0d0887"
                          ],
                          [
                            0.1111111111111111,
                            "#46039f"
                          ],
                          [
                            0.2222222222222222,
                            "#7201a8"
                          ],
                          [
                            0.3333333333333333,
                            "#9c179e"
                          ],
                          [
                            0.4444444444444444,
                            "#bd3786"
                          ],
                          [
                            0.5555555555555556,
                            "#d8576b"
                          ],
                          [
                            0.6666666666666666,
                            "#ed7953"
                          ],
                          [
                            0.7777777777777778,
                            "#fb9f3a"
                          ],
                          [
                            0.8888888888888888,
                            "#fdca26"
                          ],
                          [
                            1,
                            "#f0f921"
                          ]
                        ],
                        "type": "histogram2d"
                      }
                    ],
                    "histogram2dcontour": [
                      {
                        "colorbar": {
                          "outlinewidth": 0,
                          "ticks": ""
                        },
                        "colorscale": [
                          [
                            0,
                            "#0d0887"
                          ],
                          [
                            0.1111111111111111,
                            "#46039f"
                          ],
                          [
                            0.2222222222222222,
                            "#7201a8"
                          ],
                          [
                            0.3333333333333333,
                            "#9c179e"
                          ],
                          [
                            0.4444444444444444,
                            "#bd3786"
                          ],
                          [
                            0.5555555555555556,
                            "#d8576b"
                          ],
                          [
                            0.6666666666666666,
                            "#ed7953"
                          ],
                          [
                            0.7777777777777778,
                            "#fb9f3a"
                          ],
                          [
                            0.8888888888888888,
                            "#fdca26"
                          ],
                          [
                            1,
                            "#f0f921"
                          ]
                        ],
                        "type": "histogram2dcontour"
                      }
                    ],
                    "mesh3d": [
                      {
                        "colorbar": {
                          "outlinewidth": 0,
                          "ticks": ""
                        },
                        "type": "mesh3d"
                      }
                    ],
                    "parcoords": [
                      {
                        "line": {
                          "colorbar": {
                            "outlinewidth": 0,
                            "ticks": ""
                          }
                        },
                        "type": "parcoords"
                      }
                    ],
                    "pie": [
                      {
                        "automargin": true,
                        "type": "pie"
                      }
                    ],
                    "scatter": [
                      {
                        "marker": {
                          "line": {
                            "color": "#283442"
                          }
                        },
                        "type": "scatter"
                      }
                    ],
                    "scatter3d": [
                      {
                        "line": {
                          "colorbar": {
                            "outlinewidth": 0,
                            "ticks": ""
                          }
                        },
                        "marker": {
                          "colorbar": {
                            "outlinewidth": 0,
                            "ticks": ""
                          }
                        },
                        "type": "scatter3d"
                      }
                    ],
                    "scattercarpet": [
                      {
                        "marker": {
                          "colorbar": {
                            "outlinewidth": 0,
                            "ticks": ""
                          }
                        },
                        "type": "scattercarpet"
                      }
                    ],
                    "scattergeo": [
                      {
                        "marker": {
                          "colorbar": {
                            "outlinewidth": 0,
                            "ticks": ""
                          }
                        },
                        "type": "scattergeo"
                      }
                    ],
                    "scattergl": [
                      {
                        "marker": {
                          "line": {
                            "color": "#283442"
                          }
                        },
                        "type": "scattergl"
                      }
                    ],
                    "scattermapbox": [
                      {
                        "marker": {
                          "colorbar": {
                            "outlinewidth": 0,
                            "ticks": ""
                          }
                        },
                        "type": "scattermapbox"
                      }
                    ],
                    "scatterpolar": [
                      {
                        "marker": {
                          "colorbar": {
                            "outlinewidth": 0,
                            "ticks": ""
                          }
                        },
                        "type": "scatterpolar"
                      }
                    ],
                    "scatterpolargl": [
                      {
                        "marker": {
                          "colorbar": {
                            "outlinewidth": 0,
                            "ticks": ""
                          }
                        },
                        "type": "scatterpolargl"
                      }
                    ],
                    "scatterternary": [
                      {
                        "marker": {
                          "colorbar": {
                            "outlinewidth": 0,
                            "ticks": ""
                          }
                        },
                        "type": "scatterternary"
                      }
                    ],
                    "surface": [
                      {
                        "colorbar": {
                          "outlinewidth": 0,
                          "ticks": ""
                        },
                        "colorscale": [
                          [
                            0,
                            "#0d0887"
                          ],
                          [
                            0.1111111111111111,
                            "#46039f"
                          ],
                          [
                            0.2222222222222222,
                            "#7201a8"
                          ],
                          [
                            0.3333333333333333,
                            "#9c179e"
                          ],
                          [
                            0.4444444444444444,
                            "#bd3786"
                          ],
                          [
                            0.5555555555555556,
                            "#d8576b"
                          ],
                          [
                            0.6666666666666666,
                            "#ed7953"
                          ],
                          [
                            0.7777777777777778,
                            "#fb9f3a"
                          ],
                          [
                            0.8888888888888888,
                            "#fdca26"
                          ],
                          [
                            1,
                            "#f0f921"
                          ]
                        ],
                        "type": "surface"
                      }
                    ],
                    "table": [
                      {
                        "cells": {
                          "fill": {
                            "color": "#506784"
                          },
                          "line": {
                            "color": "rgb(17,17,17)"
                          }
                        },
                        "header": {
                          "fill": {
                            "color": "#2a3f5f"
                          },
                          "line": {
                            "color": "rgb(17,17,17)"
                          }
                        },
                        "type": "table"
                      }
                    ]
                  },
                  "layout": {
                    "annotationdefaults": {
                      "arrowcolor": "#f2f5fa",
                      "arrowhead": 0,
                      "arrowwidth": 1
                    },
                    "autotypenumbers": "strict",
                    "coloraxis": {
                      "colorbar": {
                        "outlinewidth": 0,
                        "ticks": ""
                      }
                    },
                    "colorscale": {
                      "diverging": [
                        [
                          0,
                          "#8e0152"
                        ],
                        [
                          0.1,
                          "#c51b7d"
                        ],
                        [
                          0.2,
                          "#de77ae"
                        ],
                        [
                          0.3,
                          "#f1b6da"
                        ],
                        [
                          0.4,
                          "#fde0ef"
                        ],
                        [
                          0.5,
                          "#f7f7f7"
                        ],
                        [
                          0.6,
                          "#e6f5d0"
                        ],
                        [
                          0.7,
                          "#b8e186"
                        ],
                        [
                          0.8,
                          "#7fbc41"
                        ],
                        [
                          0.9,
                          "#4d9221"
                        ],
                        [
                          1,
                          "#276419"
                        ]
                      ],
                      "sequential": [
                        [
                          0,
                          "#0d0887"
                        ],
                        [
                          0.1111111111111111,
                          "#46039f"
                        ],
                        [
                          0.2222222222222222,
                          "#7201a8"
                        ],
                        [
                          0.3333333333333333,
                          "#9c179e"
                        ],
                        [
                          0.4444444444444444,
                          "#bd3786"
                        ],
                        [
                          0.5555555555555556,
                          "#d8576b"
                        ],
                        [
                          0.6666666666666666,
                          "#ed7953"
                        ],
                        [
                          0.7777777777777778,
                          "#fb9f3a"
                        ],
                        [
                          0.8888888888888888,
                          "#fdca26"
                        ],
                        [
                          1,
                          "#f0f921"
                        ]
                      ],
                      "sequentialminus": [
                        [
                          0,
                          "#0d0887"
                        ],
                        [
                          0.1111111111111111,
                          "#46039f"
                        ],
                        [
                          0.2222222222222222,
                          "#7201a8"
                        ],
                        [
                          0.3333333333333333,
                          "#9c179e"
                        ],
                        [
                          0.4444444444444444,
                          "#bd3786"
                        ],
                        [
                          0.5555555555555556,
                          "#d8576b"
                        ],
                        [
                          0.6666666666666666,
                          "#ed7953"
                        ],
                        [
                          0.7777777777777778,
                          "#fb9f3a"
                        ],
                        [
                          0.8888888888888888,
                          "#fdca26"
                        ],
                        [
                          1,
                          "#f0f921"
                        ]
                      ]
                    },
                    "colorway": [
                      "#636efa",
                      "#EF553B",
                      "#00cc96",
                      "#ab63fa",
                      "#FFA15A",
                      "#19d3f3",
                      "#FF6692",
                      "#B6E880",
                      "#FF97FF",
                      "#FECB52"
                    ],
                    "font": {
                      "color": "#f2f5fa"
                    },
                    "geo": {
                      "bgcolor": "rgb(17,17,17)",
                      "lakecolor": "rgb(17,17,17)",
                      "landcolor": "rgb(17,17,17)",
                      "showlakes": true,
                      "showland": true,
                      "subunitcolor": "#506784"
                    },
                    "hoverlabel": {
                      "align": "left"
                    },
                    "hovermode": "closest",
                    "mapbox": {
                      "style": "dark"
                    },
                    "paper_bgcolor": "rgb(17,17,17)",
                    "plot_bgcolor": "rgb(17,17,17)",
                    "polar": {
                      "angularaxis": {
                        "gridcolor": "#506784",
                        "linecolor": "#506784",
                        "ticks": ""
                      },
                      "bgcolor": "rgb(17,17,17)",
                      "radialaxis": {
                        "gridcolor": "#506784",
                        "linecolor": "#506784",
                        "ticks": ""
                      }
                    },
                    "scene": {
                      "xaxis": {
                        "backgroundcolor": "rgb(17,17,17)",
                        "gridcolor": "#506784",
                        "gridwidth": 2,
                        "linecolor": "#506784",
                        "showbackground": true,
                        "ticks": "",
                        "zerolinecolor": "#C8D4E3"
                      },
                      "yaxis": {
                        "backgroundcolor": "rgb(17,17,17)",
                        "gridcolor": "#506784",
                        "gridwidth": 2,
                        "linecolor": "#506784",
                        "showbackground": true,
                        "ticks": "",
                        "zerolinecolor": "#C8D4E3"
                      },
                      "zaxis": {
                        "backgroundcolor": "rgb(17,17,17)",
                        "gridcolor": "#506784",
                        "gridwidth": 2,
                        "linecolor": "#506784",
                        "showbackground": true,
                        "ticks": "",
                        "zerolinecolor": "#C8D4E3"
                      }
                    },
                    "shapedefaults": {
                      "line": {
                        "color": "#f2f5fa"
                      }
                    },
                    "sliderdefaults": {
                      "bgcolor": "#C8D4E3",
                      "bordercolor": "rgb(17,17,17)",
                      "borderwidth": 1,
                      "tickwidth": 0
                    },
                    "ternary": {
                      "aaxis": {
                        "gridcolor": "#506784",
                        "linecolor": "#506784",
                        "ticks": ""
                      },
                      "baxis": {
                        "gridcolor": "#506784",
                        "linecolor": "#506784",
                        "ticks": ""
                      },
                      "bgcolor": "rgb(17,17,17)",
                      "caxis": {
                        "gridcolor": "#506784",
                        "linecolor": "#506784",
                        "ticks": ""
                      }
                    },
                    "title": {
                      "x": 0.05
                    },
                    "updatemenudefaults": {
                      "bgcolor": "#506784",
                      "borderwidth": 0
                    },
                    "xaxis": {
                      "automargin": true,
                      "gridcolor": "#283442",
                      "linecolor": "#506784",
                      "ticks": "",
                      "title": {
                        "standoff": 15
                      },
                      "zerolinecolor": "#283442",
                      "zerolinewidth": 2
                    },
                    "yaxis": {
                      "automargin": true,
                      "gridcolor": "#283442",
                      "linecolor": "#506784",
                      "ticks": "",
                      "title": {
                        "standoff": 15
                      },
                      "zerolinecolor": "#283442",
                      "zerolinewidth": 2
                    }
                  }
                }
              }
            }
          },
          "metadata": {},
          "output_type": "display_data"
        }
      ],
      "source": [
        "fig = go.Figure(data=[go.Scatter3d( \n",
        "    x=x[:, 0].flatten(),\n",
        "    y=x[:, 1].flatten(),\n",
        "    z=y.flatten(),\n",
        "    \n",
        "    mode='lines',\n",
        "    line=dict(\n",
        "        color=y.flatten(),\n",
        "        colorscale='YlGn',\n",
        "        reversescale=True,\n",
        "        width=3\n",
        "    )\n",
        ")])\n",
        "\n",
        "fig.update_layout(template= \"plotly_dark\", margin=dict(l=0, r=0, b=0, t=0))\n",
        "fig.layout.scene.camera.projection.type = \"orthographic\"\n",
        "fig.show()"
      ]
    },
    {
      "cell_type": "code",
      "execution_count": 25,
      "metadata": {},
      "outputs": [],
      "source": [
        "# git checkout ma-branche    #mise à jour\n",
        "\n",
        "# git add nom_du_fichier.py\n",
        "\n",
        "# git push origin ma-branche\n",
        "\n",
        "\n",
        "\n",
        "# git add .\n",
        "# git commit -m \"Votre message de commit\"\n",
        "\n",
        "# git push origin master\n",
        "\n",
        "\n",
        "\n"
      ]
    }
  ],
  "metadata": {
    "colab": {
      "provenance": []
    },
    "kernelspec": {
      "display_name": "Python 3",
      "name": "python3"
    },
    "language_info": {
      "codemirror_mode": {
        "name": "ipython",
        "version": 3
      },
      "file_extension": ".py",
      "mimetype": "text/x-python",
      "name": "python",
      "nbconvert_exporter": "python",
      "pygments_lexer": "ipython3",
      "version": "3.9.13"
    }
  },
  "nbformat": 4,
  "nbformat_minor": 0
}
